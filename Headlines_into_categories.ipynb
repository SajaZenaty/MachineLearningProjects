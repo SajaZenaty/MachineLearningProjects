{
 "cells": [
  {
   "cell_type": "markdown",
   "id": "7e054c38",
   "metadata": {},
   "source": [
    "Load the dataset from HuggingFace website ."
   ]
  },
  {
   "cell_type": "code",
   "execution_count": 3,
   "id": "494fa0aa",
   "metadata": {},
   "outputs": [],
   "source": [
    "from datasets import load_dataset\n",
    "from sklearn.linear_model import LogisticRegression\n",
    "from sklearn.tree import DecisionTreeClassifier\n",
    "from sklearn.neighbors import KNeighborsClassifier\n",
    "from sklearn.metrics import accuracy_score\n",
    "from sklearn.feature_extraction.text import TfidfVectorizer\n",
    "import pandas as pd\n",
    "from sklearn.ensemble import GradientBoostingClassifier\n",
    "from sklearn.metrics import classification_report\n"
   ]
  },
  {
   "cell_type": "code",
   "execution_count": 4,
   "id": "3322f6ce",
   "metadata": {},
   "outputs": [],
   "source": [
    "ds = load_dataset(\"wangrongsheng/ag_news\")"
   ]
  },
  {
   "cell_type": "markdown",
   "id": "8da84e6f",
   "metadata": {},
   "source": [
    "## Dataset Overview\n",
    "\n",
    "The dataset consists of **two splits**:\n",
    "\n",
    "1. **Train dataset**: Contains **120,000 rows**  \n",
    "2. **Test dataset**: Contains **7,600 rows**\n",
    "\n",
    "The split proportions are approximately:  \n",
    "- Train set: **94%** of the whole dataset  \n",
    "- Test set: **6%** of the whole dataset  \n",
    "\n",
    "---\n",
    "\n",
    "## Dataset Features\n",
    "\n",
    "The dataset has **two features**:\n",
    "\n",
    "| Feature | Description                                |\n",
    "|---------|--------------------------------------------|\n",
    "| **text**  | The input to our model — news headlines (strings)  |\n",
    "| **label** | The target output — integers representing news categories |\n",
    "\n",
    "---\n",
    "\n",
    "## Label Mapping\n",
    "\n",
    "| Label | Category           |\n",
    "|-------|--------------------|\n",
    "| 0     | World              |\n",
    "| 1     | Sports             |\n",
    "| 2     | Business           |\n",
    "| 3     | Science / Technology |\n"
   ]
  },
  {
   "cell_type": "code",
   "execution_count": 5,
   "id": "ff119c02",
   "metadata": {},
   "outputs": [
    {
     "data": {
      "text/plain": [
       "DatasetDict({\n",
       "    train: Dataset({\n",
       "        features: ['text', 'label'],\n",
       "        num_rows: 120000\n",
       "    })\n",
       "    test: Dataset({\n",
       "        features: ['text', 'label'],\n",
       "        num_rows: 7600\n",
       "    })\n",
       "})"
      ]
     },
     "execution_count": 5,
     "metadata": {},
     "output_type": "execute_result"
    }
   ],
   "source": [
    "ds"
   ]
  },
  {
   "cell_type": "markdown",
   "id": "5ae0f4c1",
   "metadata": {},
   "source": [
    "Now I put the train dataset and test dataset in two seperates dataframes ."
   ]
  },
  {
   "cell_type": "code",
   "execution_count": 6,
   "id": "c094f0c2",
   "metadata": {},
   "outputs": [],
   "source": [
    "train_df = pd.DataFrame(ds['train'])\n",
    "test_df = pd.DataFrame(ds['test'])\n"
   ]
  },
  {
   "cell_type": "code",
   "execution_count": 7,
   "id": "2f6ec251",
   "metadata": {},
   "outputs": [
    {
     "data": {
      "application/vnd.microsoft.datawrangler.viewer.v0+json": {
       "columns": [
        {
         "name": "index",
         "rawType": "int64",
         "type": "integer"
        },
        {
         "name": "text",
         "rawType": "object",
         "type": "string"
        }
       ],
       "ref": "4365dfde-4924-4405-9aa9-3a99bc3286f7",
       "rows": [
        [
         "0",
         "Wall St. Bears Claw Back Into the Black (Reuters) Reuters - Short-sellers, Wall Street's dwindling\\band of ultra-cynics, are seeing green again."
        ],
        [
         "1",
         "Carlyle Looks Toward Commercial Aerospace (Reuters) Reuters - Private investment firm Carlyle Group,\\which has a reputation for making well-timed and occasionally\\controversial plays in the defense industry, has quietly placed\\its bets on another part of the market."
        ],
        [
         "2",
         "Oil and Economy Cloud Stocks' Outlook (Reuters) Reuters - Soaring crude prices plus worries\\about the economy and the outlook for earnings are expected to\\hang over the stock market next week during the depth of the\\summer doldrums."
        ],
        [
         "3",
         "Iraq Halts Oil Exports from Main Southern Pipeline (Reuters) Reuters - Authorities have halted oil export\\flows from the main pipeline in southern Iraq after\\intelligence showed a rebel militia could strike\\infrastructure, an oil official said on Saturday."
        ],
        [
         "4",
         "Oil prices soar to all-time record, posing new menace to US economy (AFP) AFP - Tearaway world oil prices, toppling records and straining wallets, present a new economic menace barely three months before the US presidential elections."
        ]
       ],
       "shape": {
        "columns": 1,
        "rows": 5
       }
      },
      "text/plain": [
       "0    Wall St. Bears Claw Back Into the Black (Reute...\n",
       "1    Carlyle Looks Toward Commercial Aerospace (Reu...\n",
       "2    Oil and Economy Cloud Stocks' Outlook (Reuters...\n",
       "3    Iraq Halts Oil Exports from Main Southern Pipe...\n",
       "4    Oil prices soar to all-time record, posing new...\n",
       "Name: text, dtype: object"
      ]
     },
     "execution_count": 7,
     "metadata": {},
     "output_type": "execute_result"
    }
   ],
   "source": [
    "train_df['text'].head()"
   ]
  },
  {
   "cell_type": "markdown",
   "id": "d7986928",
   "metadata": {},
   "source": [
    "As appear from info the data type of two columns is correct , text has object data type and label has integer data type , Two columns don't have null values ."
   ]
  },
  {
   "cell_type": "code",
   "execution_count": 8,
   "id": "5236599b",
   "metadata": {},
   "outputs": [
    {
     "name": "stdout",
     "output_type": "stream",
     "text": [
      "<class 'pandas.core.frame.DataFrame'>\n",
      "RangeIndex: 120000 entries, 0 to 119999\n",
      "Data columns (total 2 columns):\n",
      " #   Column  Non-Null Count   Dtype \n",
      "---  ------  --------------   ----- \n",
      " 0   text    120000 non-null  object\n",
      " 1   label   120000 non-null  int64 \n",
      "dtypes: int64(1), object(1)\n",
      "memory usage: 1.8+ MB\n"
     ]
    }
   ],
   "source": [
    "train_df.info()"
   ]
  },
  {
   "cell_type": "markdown",
   "id": "8f87dca6",
   "metadata": {},
   "source": [
    "As appears here the dataset is balanced and every label appears 30000 times ."
   ]
  },
  {
   "cell_type": "code",
   "execution_count": 9,
   "id": "021d7ecc",
   "metadata": {},
   "outputs": [
    {
     "data": {
      "application/vnd.microsoft.datawrangler.viewer.v0+json": {
       "columns": [
        {
         "name": "label",
         "rawType": "int64",
         "type": "integer"
        },
        {
         "name": "count",
         "rawType": "int64",
         "type": "integer"
        }
       ],
       "ref": "a2c9b136-a3b7-47f6-b7a0-f6e499976138",
       "rows": [
        [
         "2",
         "30000"
        ],
        [
         "3",
         "30000"
        ],
        [
         "1",
         "30000"
        ],
        [
         "0",
         "30000"
        ]
       ],
       "shape": {
        "columns": 1,
        "rows": 4
       }
      },
      "text/plain": [
       "label\n",
       "2    30000\n",
       "3    30000\n",
       "1    30000\n",
       "0    30000\n",
       "Name: count, dtype: int64"
      ]
     },
     "execution_count": 9,
     "metadata": {},
     "output_type": "execute_result"
    }
   ],
   "source": [
    "train_df['label'].value_counts()"
   ]
  },
  {
   "cell_type": "code",
   "execution_count": 10,
   "id": "ff1035e4",
   "metadata": {},
   "outputs": [
    {
     "data": {
      "image/png": "[encoded data removed]",
      "text/plain": [
       "<Figure size 640x480 with 1 Axes>"
      ]
     },
     "metadata": {},
     "output_type": "display_data"
    }
   ],
   "source": [
    "import seaborn as sns\n",
    "import matplotlib.pyplot as plt\n",
    "\n",
    "sns.countplot(x='label', data=train_df)\n",
    "plt.title(\"Distribution of News Categories\")\n",
    "plt.xlabel(\"Label\")\n",
    "plt.ylabel(\"Count\")\n",
    "plt.show()\n"
   ]
  },
  {
   "cell_type": "markdown",
   "id": "9ef6ecc2",
   "metadata": {},
   "source": [
    "As appears here :\n",
    "1. on average each headline has 38 words .\n",
    "2. +-10 word variation from the mean.\n",
    "3. The shortest headline is 8\n",
    "4. The longest headline is 177"
   ]
  },
  {
   "cell_type": "code",
   "execution_count": 11,
   "id": "14867d0b",
   "metadata": {},
   "outputs": [
    {
     "data": {
      "application/vnd.microsoft.datawrangler.viewer.v0+json": {
       "columns": [
        {
         "name": "index",
         "rawType": "object",
         "type": "string"
        },
        {
         "name": "word_count",
         "rawType": "float64",
         "type": "float"
        }
       ],
       "ref": "689268e2-9063-4c86-a6d2-204c91280eec",
       "rows": [
        [
         "count",
         "120000.0"
        ],
        [
         "mean",
         "37.84745"
        ],
        [
         "std",
         "10.085245465479137"
        ],
        [
         "min",
         "8.0"
        ],
        [
         "25%",
         "32.0"
        ],
        [
         "50%",
         "37.0"
        ],
        [
         "75%",
         "43.0"
        ],
        [
         "max",
         "177.0"
        ]
       ],
       "shape": {
        "columns": 1,
        "rows": 8
       }
      },
      "text/plain": [
       "count    120000.000000\n",
       "mean         37.847450\n",
       "std          10.085245\n",
       "min           8.000000\n",
       "25%          32.000000\n",
       "50%          37.000000\n",
       "75%          43.000000\n",
       "max         177.000000\n",
       "Name: word_count, dtype: float64"
      ]
     },
     "execution_count": 11,
     "metadata": {},
     "output_type": "execute_result"
    }
   ],
   "source": [
    "train_df['word_count'] = train_df['text'].apply(lambda x : len(x.split()))\n",
    "train_df['word_count'].describe()"
   ]
  },
  {
   "cell_type": "code",
   "execution_count": 12,
   "id": "e7a2c643",
   "metadata": {},
   "outputs": [
    {
     "data": {
      "image/png": "[encoded data removed]",
      "text/plain": [
       "<Figure size 640x480 with 1 Axes>"
      ]
     },
     "metadata": {},
     "output_type": "display_data"
    }
   ],
   "source": [
    "sns.histplot(train_df['word_count'], bins=50)\n",
    "plt.title(\"Distribution of Headline Word Counts\")\n",
    "plt.xlabel(\"Number of Words\")\n",
    "plt.ylabel(\"Frequency\")\n",
    "plt.show()\n",
    "\n"
   ]
  },
  {
   "cell_type": "markdown",
   "id": "8ccd42d8",
   "metadata": {},
   "source": [
    "Here we do some explanation to know  which are the most frequent words in our dataset .(I can set max features as I want the number of most frequent words )"
   ]
  },
  {
   "cell_type": "markdown",
   "id": "ea9cbc78",
   "metadata": {},
   "source": [
    "Now I want to check out the most frequent word for each category in my dataset , to give me an insight on these keywords that will help me specify the category of the news ."
   ]
  },
  {
   "cell_type": "code",
   "execution_count": 13,
   "id": "3ff59984",
   "metadata": {},
   "outputs": [],
   "source": [
    "label_map ={\n",
    "    0 : 'World',\n",
    "    1 : 'Sports',\n",
    "    2 : 'Business',\n",
    "    3 : 'Sci/Tech'\n",
    "}"
   ]
  },
  {
   "cell_type": "code",
   "execution_count": 14,
   "id": "a303c21f",
   "metadata": {},
   "outputs": [],
   "source": [
    "train_df['category'] = train_df['label'].map(label_map)"
   ]
  },
  {
   "cell_type": "code",
   "execution_count": 15,
   "id": "ff9492a7",
   "metadata": {},
   "outputs": [],
   "source": [
    "import re\n",
    "def clean_text(text):\n",
    "    text = text.lower()\n",
    "    text = re.sub(r'\\b\\d+\\b', '', text)\n",
    "    custom_stopwords = r'\\b(reuters|said|39|quot|lt|gt|ap|afp|new|red|night)\\b'\n",
    "    text = re.sub(custom_stopwords, '', text)\n",
    "    text = re.sub(r'[^a-z\\s]', '', text)\n",
    "    text = re.sub(r'\\s+', ' ', text).strip()\n",
    "    return text\n",
    "\n",
    "train_df['clean_text'] = train_df['text'].apply(clean_text)\n",
    "test_df['clean_text'] = test_df['text'].apply(clean_text)"
   ]
  },
  {
   "cell_type": "code",
   "execution_count": 16,
   "id": "0ef6abf2",
   "metadata": {},
   "outputs": [],
   "source": [
    "top_words_per_label = {}\n",
    "for label , group in train_df.groupby('category'):\n",
    "    TF = TfidfVectorizer(stop_words='english',max_features=50, ngram_range=(1, 2))\n",
    "    sub_X = TF.fit_transform(group['clean_text'])\n",
    "    top_words = TF.get_feature_names_out()\n",
    "    top_words_per_label[label] = top_words"
   ]
  },
  {
   "cell_type": "code",
   "execution_count": 17,
   "id": "30da8f57",
   "metadata": {},
   "outputs": [
    {
     "name": "stdout",
     "output_type": "stream",
     "text": [
      "\n",
      "Top words for category: Business\n",
      "['bank' 'billion' 'business' 'buy' 'chief' 'company' 'corp' 'cut' 'deal'\n",
      " 'dollar' 'earnings' 'economy' 'federal' 'friday' 'government' 'group'\n",
      " 'growth' 'higher' 'investors' 'jobs' 'largest' 'maker' 'market' 'million'\n",
      " 'monday' 'oil' 'oil prices' 'percent' 'prices' 'profit' 'quarter'\n",
      " 'record' 'reported' 'research' 'rise' 'rose' 'sales' 'says' 'shares'\n",
      " 'stock' 'stocks' 'thursday' 'tuesday' 'update' 'wednesday' 'week' 'world'\n",
      " 'year' 'yesterday' 'york']\n",
      "\n",
      "Top words for category: Sci/Tech\n",
      "['announced' 'apple' 'business' 'companies' 'company' 'computer' 'corp'\n",
      " 'digital' 'game' 'google' 'ibm' 'industry' 'intel' 'internet' 'linux'\n",
      " 'market' 'microsoft' 'million' 'mobile' 'monday' 'music' 'nasa' 'online'\n",
      " 'pc' 'phone' 'plans' 'says' 'scientists' 'search' 'security' 'service'\n",
      " 'services' 'software' 'space' 'technology' 'thursday' 'time' 'today'\n",
      " 'tuesday' 'users' 'version' 'video' 'web' 'wednesday' 'week' 'windows'\n",
      " 'wireless' 'world' 'year' 'years']\n",
      "\n",
      "Top words for category: Sports\n",
      "['athens' 'beat' 'boston' 'championship' 'coach' 'cup' 'day' 'england'\n",
      " 'final' 'football' 'friday' 'game' 'games' 'gold' 'home' 'lead' 'league'\n",
      " 'monday' 'network' 'olympic' 'open' 'play' 'players' 'points' 'saturday'\n",
      " 'season' 'second' 'series' 'sox' 'sports' 'sports network' 'sunday'\n",
      " 'team' 'test' 'th' 'thursday' 'time' 'title' 'tuesday' 'united' 'victory'\n",
      " 'wednesday' 'win' 'won' 'world' 'yankees' 'year' 'years' 'yesterday'\n",
      " 'york']\n",
      "\n",
      "Top words for category: World\n",
      "['attack' 'baghdad' 'bomb' 'british' 'bush' 'china' 'city' 'country'\n",
      " 'darfur' 'election' 'forces' 'friday' 'gaza' 'government' 'group' 'iran'\n",
      " 'iraq' 'iraqi' 'israel' 'israeli' 'killed' 'killing' 'leader' 'military'\n",
      " 'minister' 'monday' 'nations' 'north' 'nuclear' 'officials' 'palestinian'\n",
      " 'peace' 'people' 'police' 'president' 'prime' 'prime minister' 'saturday'\n",
      " 'says' 'security' 'state' 'sunday' 'talks' 'thursday' 'troops' 'tuesday'\n",
      " 'united' 'war' 'wednesday' 'yesterday']\n"
     ]
    }
   ],
   "source": [
    "for category, words in top_words_per_label.items():\n",
    "    print(f\"\\nTop words for category: {category}\")\n",
    "    print(words)"
   ]
  },
  {
   "cell_type": "code",
   "execution_count": 18,
   "id": "e8c61940",
   "metadata": {},
   "outputs": [],
   "source": [
    "TF = TfidfVectorizer(stop_words='english',max_features=5000,ngram_range=(1,2))\n",
    "X_train = TF.fit_transform(train_df['clean_text'])\n",
    "X_test = TF.transform(test_df['clean_text'])"
   ]
  },
  {
   "cell_type": "code",
   "execution_count": 19,
   "id": "189e130c",
   "metadata": {},
   "outputs": [],
   "source": [
    "y_train = train_df['label']\n",
    "y_test = test_df['label']"
   ]
  },
  {
   "cell_type": "code",
   "execution_count": 20,
   "id": "9b1b5784",
   "metadata": {},
   "outputs": [],
   "source": [
    "model = LogisticRegression(max_iter=1000)\n",
    "model.fit(X_train, y_train)\n",
    "preds = model.predict(X_test)\n",
    "acc = accuracy_score(y_test, preds)"
   ]
  },
  {
   "cell_type": "code",
   "execution_count": 21,
   "id": "6c545a05",
   "metadata": {},
   "outputs": [],
   "source": [
    "models  ={\n",
    "    'LogisticRegression' : LogisticRegression(max_iter=1000),\n",
    "    'DecisionTree' : DecisionTreeClassifier(),\n",
    "    'KNN' : KNeighborsClassifier(n_neighbors=5),\n",
    "    'GradientBoosting': GradientBoostingClassifier()\n",
    "    \n",
    "}"
   ]
  },
  {
   "cell_type": "code",
   "execution_count": null,
   "id": "4a85b53a",
   "metadata": {},
   "outputs": [],
   "source": [
    "for name, model in models.items():\n",
    "    model.fit(X_train, y_train)\n",
    "    preds = model.predict(X_test)\n",
    "    acc = accuracy_score(y_test, preds)\n",
    "    print(f\"{name} Accuracy: {acc:.4f}\")\n",
    "    print(\"Classification Report:\")\n",
    "    print(classification_report(y_test, preds, target_names=label_map.values()))"
   ]
  }
 ],
 "metadata": {
  "kernelspec": {
   "display_name": "Python 3",
   "language": "python",
   "name": "python3"
  },
  "language_info": {
   "codemirror_mode": {
    "name": "ipython",
    "version": 3
   },
   "file_extension": ".py",
   "mimetype": "text/x-python",
   "name": "python",
   "nbconvert_exporter": "python",
   "pygments_lexer": "ipython3",
   "version": "3.11.3"
  }
 },
 "nbformat": 4,
 "nbformat_minor": 5
}
